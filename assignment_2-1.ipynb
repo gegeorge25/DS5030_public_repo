{
 "cells": [
  {
   "cell_type": "markdown",
   "id": "68b304b2",
   "metadata": {},
   "source": [
    "### Grace George"
   ]
  },
  {
   "cell_type": "markdown",
   "id": "87b91d83",
   "metadata": {},
   "source": [
    "# Assignment 2\n",
    "### Understanding Uncertainty\n",
    "### Due 9/12"
   ]
  },
  {
   "cell_type": "markdown",
   "id": "380e339f",
   "metadata": {},
   "source": [
    "1. 'State Bottle Retail' is the price at which the bottle is sold, while 'State Bottle Cost' is the price the state pays for a bottle.\n",
    "- How do you define the most profitable item? Why? Explain your thinking.\n",
    "- Use `.groupby` calculations to determine the most profitable liquors sold in Iowa.\n",
    "- Make a plot of the top liquors."
   ]
  },
  {
   "cell_type": "markdown",
   "id": "a0e39fc6",
   "metadata": {},
   "source": [
    "## Question 1"
   ]
  },
  {
   "cell_type": "code",
   "execution_count": 64,
   "id": "d36a10a8",
   "metadata": {},
   "outputs": [],
   "source": [
    "import plotly.express "
   ]
  },
  {
   "cell_type": "code",
   "execution_count": 65,
   "id": "312c9181",
   "metadata": {},
   "outputs": [],
   "source": [
    "import pandas as pd\n",
    "import numpy as np\n",
    "import plotly.express as px\n",
    "import seaborn as sns"
   ]
  },
  {
   "cell_type": "code",
   "execution_count": 66,
   "id": "a470d820",
   "metadata": {},
   "outputs": [
    {
     "data": {
      "text/html": [
       "<div>\n",
       "<style scoped>\n",
       "    .dataframe tbody tr th:only-of-type {\n",
       "        vertical-align: middle;\n",
       "    }\n",
       "\n",
       "    .dataframe tbody tr th {\n",
       "        vertical-align: top;\n",
       "    }\n",
       "\n",
       "    .dataframe thead th {\n",
       "        text-align: right;\n",
       "    }\n",
       "</style>\n",
       "<table border=\"1\" class=\"dataframe\">\n",
       "  <thead>\n",
       "    <tr style=\"text-align: right;\">\n",
       "      <th></th>\n",
       "      <th>Invoice/Item Number</th>\n",
       "      <th>Date</th>\n",
       "      <th>Store Number</th>\n",
       "      <th>Store Name</th>\n",
       "      <th>Zip Code</th>\n",
       "      <th>Category Name</th>\n",
       "      <th>Vendor Name</th>\n",
       "      <th>Item Number</th>\n",
       "      <th>Item Description</th>\n",
       "      <th>Bottle Volume (ml)</th>\n",
       "      <th>State Bottle Cost</th>\n",
       "      <th>State Bottle Retail</th>\n",
       "      <th>Bottles Sold</th>\n",
       "      <th>Sale (Dollars)</th>\n",
       "    </tr>\n",
       "  </thead>\n",
       "  <tbody>\n",
       "    <tr>\n",
       "      <th>0</th>\n",
       "      <td>INV-59108400026</td>\n",
       "      <td>06/06/2023</td>\n",
       "      <td>3723</td>\n",
       "      <td>J D SPIRITS LIQUOR</td>\n",
       "      <td>51040</td>\n",
       "      <td>STRAIGHT RYE WHISKIES</td>\n",
       "      <td>INFINIUM SPIRITS</td>\n",
       "      <td>27102</td>\n",
       "      <td>TEMPLETON RYE 4YR</td>\n",
       "      <td>750</td>\n",
       "      <td>18.09</td>\n",
       "      <td>27.14</td>\n",
       "      <td>2</td>\n",
       "      <td>54.28</td>\n",
       "    </tr>\n",
       "    <tr>\n",
       "      <th>1</th>\n",
       "      <td>S16879800057</td>\n",
       "      <td>01/16/2014</td>\n",
       "      <td>3926</td>\n",
       "      <td>LIQUOR DOWNTOWN / IOWA CITY</td>\n",
       "      <td>52240</td>\n",
       "      <td>VODKA 80 PROOF</td>\n",
       "      <td>HEAVEN HILL BRANDS</td>\n",
       "      <td>35416</td>\n",
       "      <td>BURNETT'S VODKA 80 PRF</td>\n",
       "      <td>750</td>\n",
       "      <td>4.84</td>\n",
       "      <td>7.26</td>\n",
       "      <td>12</td>\n",
       "      <td>87.12</td>\n",
       "    </tr>\n",
       "    <tr>\n",
       "      <th>2</th>\n",
       "      <td>INV-05301100019</td>\n",
       "      <td>06/05/2017</td>\n",
       "      <td>3829</td>\n",
       "      <td>GARY'S FOODS / MT VERNON</td>\n",
       "      <td>52314</td>\n",
       "      <td>CANADIAN WHISKIES</td>\n",
       "      <td>DIAGEO AMERICAS</td>\n",
       "      <td>11296</td>\n",
       "      <td>CROWN ROYAL</td>\n",
       "      <td>750</td>\n",
       "      <td>15.59</td>\n",
       "      <td>23.39</td>\n",
       "      <td>6</td>\n",
       "      <td>135.66</td>\n",
       "    </tr>\n",
       "    <tr>\n",
       "      <th>3</th>\n",
       "      <td>INV-40973500083</td>\n",
       "      <td>10/14/2021</td>\n",
       "      <td>5102</td>\n",
       "      <td>WILKIE LIQUORS</td>\n",
       "      <td>52314</td>\n",
       "      <td>AMERICAN SCHNAPPS</td>\n",
       "      <td>JIM BEAM BRANDS</td>\n",
       "      <td>82787</td>\n",
       "      <td>DEKUYPER BUTTERSHOTS</td>\n",
       "      <td>1000</td>\n",
       "      <td>7.87</td>\n",
       "      <td>11.81</td>\n",
       "      <td>12</td>\n",
       "      <td>141.72</td>\n",
       "    </tr>\n",
       "    <tr>\n",
       "      <th>4</th>\n",
       "      <td>INV-17022500013</td>\n",
       "      <td>01/18/2019</td>\n",
       "      <td>2560</td>\n",
       "      <td>HY-VEE FOOD STORE / MARION</td>\n",
       "      <td>52302</td>\n",
       "      <td>WHISKEY LIQUEUR</td>\n",
       "      <td>SAZERAC COMPANY  INC</td>\n",
       "      <td>64863</td>\n",
       "      <td>FIREBALL CINNAMON WHISKEY</td>\n",
       "      <td>200</td>\n",
       "      <td>2.50</td>\n",
       "      <td>3.75</td>\n",
       "      <td>12</td>\n",
       "      <td>45.00</td>\n",
       "    </tr>\n",
       "    <tr>\n",
       "      <th>...</th>\n",
       "      <td>...</td>\n",
       "      <td>...</td>\n",
       "      <td>...</td>\n",
       "      <td>...</td>\n",
       "      <td>...</td>\n",
       "      <td>...</td>\n",
       "      <td>...</td>\n",
       "      <td>...</td>\n",
       "      <td>...</td>\n",
       "      <td>...</td>\n",
       "      <td>...</td>\n",
       "      <td>...</td>\n",
       "      <td>...</td>\n",
       "      <td>...</td>\n",
       "    </tr>\n",
       "    <tr>\n",
       "      <th>159899</th>\n",
       "      <td>INV-20689000058</td>\n",
       "      <td>07/17/2019</td>\n",
       "      <td>2565</td>\n",
       "      <td>HY-VEE FOOD STORE #1636 / SPENCER</td>\n",
       "      <td>51301</td>\n",
       "      <td>AMERICAN CORDIALS &amp; LIQUEURS</td>\n",
       "      <td>LUXCO INC</td>\n",
       "      <td>76488</td>\n",
       "      <td>PARAMOUNT AMARETTO</td>\n",
       "      <td>1750</td>\n",
       "      <td>8.07</td>\n",
       "      <td>12.11</td>\n",
       "      <td>6</td>\n",
       "      <td>72.66</td>\n",
       "    </tr>\n",
       "    <tr>\n",
       "      <th>159900</th>\n",
       "      <td>S05071400061</td>\n",
       "      <td>04/16/2012</td>\n",
       "      <td>3583</td>\n",
       "      <td>MAC'S LIQUOR AND VIDEOS</td>\n",
       "      <td>50060</td>\n",
       "      <td>COFFEE LIQUEURS</td>\n",
       "      <td>PERNOD RICARD USA/AUSTIN NICHOLS</td>\n",
       "      <td>67527</td>\n",
       "      <td>KAHLUA COFFEE LIQUEUR</td>\n",
       "      <td>1000</td>\n",
       "      <td>14.81</td>\n",
       "      <td>22.22</td>\n",
       "      <td>1</td>\n",
       "      <td>22.22</td>\n",
       "    </tr>\n",
       "    <tr>\n",
       "      <th>159901</th>\n",
       "      <td>INV-22880300009</td>\n",
       "      <td>10/29/2019</td>\n",
       "      <td>3896</td>\n",
       "      <td>SMOKIN' JOE'S #18 TOBACCO AND LIQUOR OUTLET</td>\n",
       "      <td>52240</td>\n",
       "      <td>IMPORTED DRY GINS</td>\n",
       "      <td>DIAGEO AMERICAS</td>\n",
       "      <td>28866</td>\n",
       "      <td>TANQUERAY GIN</td>\n",
       "      <td>750</td>\n",
       "      <td>13.50</td>\n",
       "      <td>20.25</td>\n",
       "      <td>2</td>\n",
       "      <td>40.50</td>\n",
       "    </tr>\n",
       "    <tr>\n",
       "      <th>159902</th>\n",
       "      <td>INV-58180900067</td>\n",
       "      <td>05/05/2023</td>\n",
       "      <td>4057</td>\n",
       "      <td>TEQUILA'S LIQUOR STORE</td>\n",
       "      <td>50316</td>\n",
       "      <td>NEUTRAL GRAIN SPIRITS FLAVORED</td>\n",
       "      <td>OLE SMOKY DISTILLERY LLC</td>\n",
       "      <td>80363</td>\n",
       "      <td>OLE SMOKY BANANA PUDDING CREAM MOONSHINE</td>\n",
       "      <td>750</td>\n",
       "      <td>13.00</td>\n",
       "      <td>19.50</td>\n",
       "      <td>3</td>\n",
       "      <td>58.50</td>\n",
       "    </tr>\n",
       "    <tr>\n",
       "      <th>159903</th>\n",
       "      <td>INV-64335600006</td>\n",
       "      <td>11/16/2023</td>\n",
       "      <td>5371</td>\n",
       "      <td>STATE FOOD MART</td>\n",
       "      <td>52722</td>\n",
       "      <td>STRAIGHT BOURBON WHISKIES</td>\n",
       "      <td>JIM BEAM BRANDS</td>\n",
       "      <td>20116</td>\n",
       "      <td>OLD GRAND DAD 114PRF</td>\n",
       "      <td>750</td>\n",
       "      <td>13.84</td>\n",
       "      <td>20.76</td>\n",
       "      <td>3</td>\n",
       "      <td>62.28</td>\n",
       "    </tr>\n",
       "  </tbody>\n",
       "</table>\n",
       "<p>159904 rows × 14 columns</p>\n",
       "</div>"
      ],
      "text/plain": [
       "       Invoice/Item Number        Date  Store Number  \\\n",
       "0          INV-59108400026  06/06/2023          3723   \n",
       "1             S16879800057  01/16/2014          3926   \n",
       "2          INV-05301100019  06/05/2017          3829   \n",
       "3          INV-40973500083  10/14/2021          5102   \n",
       "4          INV-17022500013  01/18/2019          2560   \n",
       "...                    ...         ...           ...   \n",
       "159899     INV-20689000058  07/17/2019          2565   \n",
       "159900        S05071400061  04/16/2012          3583   \n",
       "159901     INV-22880300009  10/29/2019          3896   \n",
       "159902     INV-58180900067  05/05/2023          4057   \n",
       "159903     INV-64335600006  11/16/2023          5371   \n",
       "\n",
       "                                         Store Name Zip Code  \\\n",
       "0                                J D SPIRITS LIQUOR    51040   \n",
       "1                       LIQUOR DOWNTOWN / IOWA CITY    52240   \n",
       "2                          GARY'S FOODS / MT VERNON    52314   \n",
       "3                                    WILKIE LIQUORS    52314   \n",
       "4                        HY-VEE FOOD STORE / MARION    52302   \n",
       "...                                             ...      ...   \n",
       "159899            HY-VEE FOOD STORE #1636 / SPENCER    51301   \n",
       "159900                      MAC'S LIQUOR AND VIDEOS    50060   \n",
       "159901  SMOKIN' JOE'S #18 TOBACCO AND LIQUOR OUTLET    52240   \n",
       "159902                       TEQUILA'S LIQUOR STORE    50316   \n",
       "159903                              STATE FOOD MART    52722   \n",
       "\n",
       "                         Category Name                       Vendor Name  \\\n",
       "0                STRAIGHT RYE WHISKIES                  INFINIUM SPIRITS   \n",
       "1                       VODKA 80 PROOF                HEAVEN HILL BRANDS   \n",
       "2                    CANADIAN WHISKIES                   DIAGEO AMERICAS   \n",
       "3                    AMERICAN SCHNAPPS                   JIM BEAM BRANDS   \n",
       "4                      WHISKEY LIQUEUR              SAZERAC COMPANY  INC   \n",
       "...                                ...                               ...   \n",
       "159899    AMERICAN CORDIALS & LIQUEURS                         LUXCO INC   \n",
       "159900                 COFFEE LIQUEURS  PERNOD RICARD USA/AUSTIN NICHOLS   \n",
       "159901               IMPORTED DRY GINS                   DIAGEO AMERICAS   \n",
       "159902  NEUTRAL GRAIN SPIRITS FLAVORED          OLE SMOKY DISTILLERY LLC   \n",
       "159903       STRAIGHT BOURBON WHISKIES                   JIM BEAM BRANDS   \n",
       "\n",
       "        Item Number                          Item Description  \\\n",
       "0             27102                         TEMPLETON RYE 4YR   \n",
       "1             35416                    BURNETT'S VODKA 80 PRF   \n",
       "2             11296                               CROWN ROYAL   \n",
       "3             82787                      DEKUYPER BUTTERSHOTS   \n",
       "4             64863                 FIREBALL CINNAMON WHISKEY   \n",
       "...             ...                                       ...   \n",
       "159899        76488                        PARAMOUNT AMARETTO   \n",
       "159900        67527                     KAHLUA COFFEE LIQUEUR   \n",
       "159901        28866                             TANQUERAY GIN   \n",
       "159902        80363  OLE SMOKY BANANA PUDDING CREAM MOONSHINE   \n",
       "159903        20116                      OLD GRAND DAD 114PRF   \n",
       "\n",
       "        Bottle Volume (ml)  State Bottle Cost  State Bottle Retail  \\\n",
       "0                      750              18.09                27.14   \n",
       "1                      750               4.84                 7.26   \n",
       "2                      750              15.59                23.39   \n",
       "3                     1000               7.87                11.81   \n",
       "4                      200               2.50                 3.75   \n",
       "...                    ...                ...                  ...   \n",
       "159899                1750               8.07                12.11   \n",
       "159900                1000              14.81                22.22   \n",
       "159901                 750              13.50                20.25   \n",
       "159902                 750              13.00                19.50   \n",
       "159903                 750              13.84                20.76   \n",
       "\n",
       "        Bottles Sold  Sale (Dollars)  \n",
       "0                  2           54.28  \n",
       "1                 12           87.12  \n",
       "2                  6          135.66  \n",
       "3                 12          141.72  \n",
       "4                 12           45.00  \n",
       "...              ...             ...  \n",
       "159899             6           72.66  \n",
       "159900             1           22.22  \n",
       "159901             2           40.50  \n",
       "159902             3           58.50  \n",
       "159903             3           62.28  \n",
       "\n",
       "[159904 rows x 14 columns]"
      ]
     },
     "execution_count": 66,
     "metadata": {},
     "output_type": "execute_result"
    }
   ],
   "source": [
    "iowa= pd.read_csv('/Users/graceegeorge/DS5030_public_repo/data/iowa.csv')\n",
    "iowa"
   ]
  },
  {
   "cell_type": "markdown",
   "id": "301b723b",
   "metadata": {},
   "source": [
    "I found the profit by subtracting gthe state bottle cost from the reatil cost and mutilplying that by the bottles sold."
   ]
  },
  {
   "cell_type": "code",
   "execution_count": 67,
   "id": "df411196",
   "metadata": {},
   "outputs": [
    {
     "data": {
      "text/plain": [
       "0         18.10\n",
       "1         29.04\n",
       "2         46.80\n",
       "3         47.28\n",
       "4         15.00\n",
       "          ...  \n",
       "159899    24.24\n",
       "159900     7.41\n",
       "159901    13.50\n",
       "159902    19.50\n",
       "159903    20.76\n",
       "Name: Profit, Length: 159904, dtype: float64"
      ]
     },
     "execution_count": 67,
     "metadata": {},
     "output_type": "execute_result"
    }
   ],
   "source": [
    "iowa['Profit']=(iowa[\"State Bottle Retail\"]- iowa[\"State Bottle Cost\"]).mul(iowa[\"Bottles Sold\"])\n",
    "iowa[\"Profit\"]"
   ]
  },
  {
   "cell_type": "code",
   "execution_count": 68,
   "id": "c279ee70",
   "metadata": {},
   "outputs": [],
   "source": [
    "iowa_sum=iowa.groupby(\"Item Description\").sum()\n",
    "iowa_sum=iowa_sum.sort_values(ascending=False,by=\"Profit\")"
   ]
  },
  {
   "cell_type": "code",
   "execution_count": 69,
   "id": "8068c8cb",
   "metadata": {},
   "outputs": [
    {
     "data": {
      "application/vnd.plotly.v1+json": {
       "config": {
        "plotlyServerURL": "https://plot.ly"
       },
       "data": [
        {
         "hovertemplate": "Item Description=%{x}<br>Profit=%{y}<extra></extra>",
         "legendgroup": "",
         "marker": {
          "color": "#636efa",
          "symbol": "circle"
         },
         "mode": "markers",
         "name": "",
         "orientation": "v",
         "showlegend": false,
         "type": "scatter",
         "x": [
          "TITOS HANDMADE VODKA",
          "BLACK VELVET",
          "FIREBALL CINNAMON WHISKEY",
          "CROWN ROYAL",
          "CROWN ROYAL REGAL APPLE"
         ],
         "xaxis": "x",
         "y": {
          "bdata": "Z2ZmZqk4FkFnZmZm08MQQSlcj8J55AZBmpmZma+mA0FnZmZmBgD+QA==",
          "dtype": "f8"
         },
         "yaxis": "y"
        }
       ],
       "layout": {
        "legend": {
         "tracegroupgap": 0
        },
        "template": {
         "data": {
          "bar": [
           {
            "error_x": {
             "color": "#2a3f5f"
            },
            "error_y": {
             "color": "#2a3f5f"
            },
            "marker": {
             "line": {
              "color": "#E5ECF6",
              "width": 0.5
             },
             "pattern": {
              "fillmode": "overlay",
              "size": 10,
              "solidity": 0.2
             }
            },
            "type": "bar"
           }
          ],
          "barpolar": [
           {
            "marker": {
             "line": {
              "color": "#E5ECF6",
              "width": 0.5
             },
             "pattern": {
              "fillmode": "overlay",
              "size": 10,
              "solidity": 0.2
             }
            },
            "type": "barpolar"
           }
          ],
          "carpet": [
           {
            "aaxis": {
             "endlinecolor": "#2a3f5f",
             "gridcolor": "white",
             "linecolor": "white",
             "minorgridcolor": "white",
             "startlinecolor": "#2a3f5f"
            },
            "baxis": {
             "endlinecolor": "#2a3f5f",
             "gridcolor": "white",
             "linecolor": "white",
             "minorgridcolor": "white",
             "startlinecolor": "#2a3f5f"
            },
            "type": "carpet"
           }
          ],
          "choropleth": [
           {
            "colorbar": {
             "outlinewidth": 0,
             "ticks": ""
            },
            "type": "choropleth"
           }
          ],
          "contour": [
           {
            "colorbar": {
             "outlinewidth": 0,
             "ticks": ""
            },
            "colorscale": [
             [
              0,
              "#0d0887"
             ],
             [
              0.1111111111111111,
              "#46039f"
             ],
             [
              0.2222222222222222,
              "#7201a8"
             ],
             [
              0.3333333333333333,
              "#9c179e"
             ],
             [
              0.4444444444444444,
              "#bd3786"
             ],
             [
              0.5555555555555556,
              "#d8576b"
             ],
             [
              0.6666666666666666,
              "#ed7953"
             ],
             [
              0.7777777777777778,
              "#fb9f3a"
             ],
             [
              0.8888888888888888,
              "#fdca26"
             ],
             [
              1,
              "#f0f921"
             ]
            ],
            "type": "contour"
           }
          ],
          "contourcarpet": [
           {
            "colorbar": {
             "outlinewidth": 0,
             "ticks": ""
            },
            "type": "contourcarpet"
           }
          ],
          "heatmap": [
           {
            "colorbar": {
             "outlinewidth": 0,
             "ticks": ""
            },
            "colorscale": [
             [
              0,
              "#0d0887"
             ],
             [
              0.1111111111111111,
              "#46039f"
             ],
             [
              0.2222222222222222,
              "#7201a8"
             ],
             [
              0.3333333333333333,
              "#9c179e"
             ],
             [
              0.4444444444444444,
              "#bd3786"
             ],
             [
              0.5555555555555556,
              "#d8576b"
             ],
             [
              0.6666666666666666,
              "#ed7953"
             ],
             [
              0.7777777777777778,
              "#fb9f3a"
             ],
             [
              0.8888888888888888,
              "#fdca26"
             ],
             [
              1,
              "#f0f921"
             ]
            ],
            "type": "heatmap"
           }
          ],
          "histogram": [
           {
            "marker": {
             "pattern": {
              "fillmode": "overlay",
              "size": 10,
              "solidity": 0.2
             }
            },
            "type": "histogram"
           }
          ],
          "histogram2d": [
           {
            "colorbar": {
             "outlinewidth": 0,
             "ticks": ""
            },
            "colorscale": [
             [
              0,
              "#0d0887"
             ],
             [
              0.1111111111111111,
              "#46039f"
             ],
             [
              0.2222222222222222,
              "#7201a8"
             ],
             [
              0.3333333333333333,
              "#9c179e"
             ],
             [
              0.4444444444444444,
              "#bd3786"
             ],
             [
              0.5555555555555556,
              "#d8576b"
             ],
             [
              0.6666666666666666,
              "#ed7953"
             ],
             [
              0.7777777777777778,
              "#fb9f3a"
             ],
             [
              0.8888888888888888,
              "#fdca26"
             ],
             [
              1,
              "#f0f921"
             ]
            ],
            "type": "histogram2d"
           }
          ],
          "histogram2dcontour": [
           {
            "colorbar": {
             "outlinewidth": 0,
             "ticks": ""
            },
            "colorscale": [
             [
              0,
              "#0d0887"
             ],
             [
              0.1111111111111111,
              "#46039f"
             ],
             [
              0.2222222222222222,
              "#7201a8"
             ],
             [
              0.3333333333333333,
              "#9c179e"
             ],
             [
              0.4444444444444444,
              "#bd3786"
             ],
             [
              0.5555555555555556,
              "#d8576b"
             ],
             [
              0.6666666666666666,
              "#ed7953"
             ],
             [
              0.7777777777777778,
              "#fb9f3a"
             ],
             [
              0.8888888888888888,
              "#fdca26"
             ],
             [
              1,
              "#f0f921"
             ]
            ],
            "type": "histogram2dcontour"
           }
          ],
          "mesh3d": [
           {
            "colorbar": {
             "outlinewidth": 0,
             "ticks": ""
            },
            "type": "mesh3d"
           }
          ],
          "parcoords": [
           {
            "line": {
             "colorbar": {
              "outlinewidth": 0,
              "ticks": ""
             }
            },
            "type": "parcoords"
           }
          ],
          "pie": [
           {
            "automargin": true,
            "type": "pie"
           }
          ],
          "scatter": [
           {
            "fillpattern": {
             "fillmode": "overlay",
             "size": 10,
             "solidity": 0.2
            },
            "type": "scatter"
           }
          ],
          "scatter3d": [
           {
            "line": {
             "colorbar": {
              "outlinewidth": 0,
              "ticks": ""
             }
            },
            "marker": {
             "colorbar": {
              "outlinewidth": 0,
              "ticks": ""
             }
            },
            "type": "scatter3d"
           }
          ],
          "scattercarpet": [
           {
            "marker": {
             "colorbar": {
              "outlinewidth": 0,
              "ticks": ""
             }
            },
            "type": "scattercarpet"
           }
          ],
          "scattergeo": [
           {
            "marker": {
             "colorbar": {
              "outlinewidth": 0,
              "ticks": ""
             }
            },
            "type": "scattergeo"
           }
          ],
          "scattergl": [
           {
            "marker": {
             "colorbar": {
              "outlinewidth": 0,
              "ticks": ""
             }
            },
            "type": "scattergl"
           }
          ],
          "scattermap": [
           {
            "marker": {
             "colorbar": {
              "outlinewidth": 0,
              "ticks": ""
             }
            },
            "type": "scattermap"
           }
          ],
          "scattermapbox": [
           {
            "marker": {
             "colorbar": {
              "outlinewidth": 0,
              "ticks": ""
             }
            },
            "type": "scattermapbox"
           }
          ],
          "scatterpolar": [
           {
            "marker": {
             "colorbar": {
              "outlinewidth": 0,
              "ticks": ""
             }
            },
            "type": "scatterpolar"
           }
          ],
          "scatterpolargl": [
           {
            "marker": {
             "colorbar": {
              "outlinewidth": 0,
              "ticks": ""
             }
            },
            "type": "scatterpolargl"
           }
          ],
          "scatterternary": [
           {
            "marker": {
             "colorbar": {
              "outlinewidth": 0,
              "ticks": ""
             }
            },
            "type": "scatterternary"
           }
          ],
          "surface": [
           {
            "colorbar": {
             "outlinewidth": 0,
             "ticks": ""
            },
            "colorscale": [
             [
              0,
              "#0d0887"
             ],
             [
              0.1111111111111111,
              "#46039f"
             ],
             [
              0.2222222222222222,
              "#7201a8"
             ],
             [
              0.3333333333333333,
              "#9c179e"
             ],
             [
              0.4444444444444444,
              "#bd3786"
             ],
             [
              0.5555555555555556,
              "#d8576b"
             ],
             [
              0.6666666666666666,
              "#ed7953"
             ],
             [
              0.7777777777777778,
              "#fb9f3a"
             ],
             [
              0.8888888888888888,
              "#fdca26"
             ],
             [
              1,
              "#f0f921"
             ]
            ],
            "type": "surface"
           }
          ],
          "table": [
           {
            "cells": {
             "fill": {
              "color": "#EBF0F8"
             },
             "line": {
              "color": "white"
             }
            },
            "header": {
             "fill": {
              "color": "#C8D4E3"
             },
             "line": {
              "color": "white"
             }
            },
            "type": "table"
           }
          ]
         },
         "layout": {
          "annotationdefaults": {
           "arrowcolor": "#2a3f5f",
           "arrowhead": 0,
           "arrowwidth": 1
          },
          "autotypenumbers": "strict",
          "coloraxis": {
           "colorbar": {
            "outlinewidth": 0,
            "ticks": ""
           }
          },
          "colorscale": {
           "diverging": [
            [
             0,
             "#8e0152"
            ],
            [
             0.1,
             "#c51b7d"
            ],
            [
             0.2,
             "#de77ae"
            ],
            [
             0.3,
             "#f1b6da"
            ],
            [
             0.4,
             "#fde0ef"
            ],
            [
             0.5,
             "#f7f7f7"
            ],
            [
             0.6,
             "#e6f5d0"
            ],
            [
             0.7,
             "#b8e186"
            ],
            [
             0.8,
             "#7fbc41"
            ],
            [
             0.9,
             "#4d9221"
            ],
            [
             1,
             "#276419"
            ]
           ],
           "sequential": [
            [
             0,
             "#0d0887"
            ],
            [
             0.1111111111111111,
             "#46039f"
            ],
            [
             0.2222222222222222,
             "#7201a8"
            ],
            [
             0.3333333333333333,
             "#9c179e"
            ],
            [
             0.4444444444444444,
             "#bd3786"
            ],
            [
             0.5555555555555556,
             "#d8576b"
            ],
            [
             0.6666666666666666,
             "#ed7953"
            ],
            [
             0.7777777777777778,
             "#fb9f3a"
            ],
            [
             0.8888888888888888,
             "#fdca26"
            ],
            [
             1,
             "#f0f921"
            ]
           ],
           "sequentialminus": [
            [
             0,
             "#0d0887"
            ],
            [
             0.1111111111111111,
             "#46039f"
            ],
            [
             0.2222222222222222,
             "#7201a8"
            ],
            [
             0.3333333333333333,
             "#9c179e"
            ],
            [
             0.4444444444444444,
             "#bd3786"
            ],
            [
             0.5555555555555556,
             "#d8576b"
            ],
            [
             0.6666666666666666,
             "#ed7953"
            ],
            [
             0.7777777777777778,
             "#fb9f3a"
            ],
            [
             0.8888888888888888,
             "#fdca26"
            ],
            [
             1,
             "#f0f921"
            ]
           ]
          },
          "colorway": [
           "#636efa",
           "#EF553B",
           "#00cc96",
           "#ab63fa",
           "#FFA15A",
           "#19d3f3",
           "#FF6692",
           "#B6E880",
           "#FF97FF",
           "#FECB52"
          ],
          "font": {
           "color": "#2a3f5f"
          },
          "geo": {
           "bgcolor": "white",
           "lakecolor": "white",
           "landcolor": "#E5ECF6",
           "showlakes": true,
           "showland": true,
           "subunitcolor": "white"
          },
          "hoverlabel": {
           "align": "left"
          },
          "hovermode": "closest",
          "mapbox": {
           "style": "light"
          },
          "paper_bgcolor": "white",
          "plot_bgcolor": "#E5ECF6",
          "polar": {
           "angularaxis": {
            "gridcolor": "white",
            "linecolor": "white",
            "ticks": ""
           },
           "bgcolor": "#E5ECF6",
           "radialaxis": {
            "gridcolor": "white",
            "linecolor": "white",
            "ticks": ""
           }
          },
          "scene": {
           "xaxis": {
            "backgroundcolor": "#E5ECF6",
            "gridcolor": "white",
            "gridwidth": 2,
            "linecolor": "white",
            "showbackground": true,
            "ticks": "",
            "zerolinecolor": "white"
           },
           "yaxis": {
            "backgroundcolor": "#E5ECF6",
            "gridcolor": "white",
            "gridwidth": 2,
            "linecolor": "white",
            "showbackground": true,
            "ticks": "",
            "zerolinecolor": "white"
           },
           "zaxis": {
            "backgroundcolor": "#E5ECF6",
            "gridcolor": "white",
            "gridwidth": 2,
            "linecolor": "white",
            "showbackground": true,
            "ticks": "",
            "zerolinecolor": "white"
           }
          },
          "shapedefaults": {
           "line": {
            "color": "#2a3f5f"
           }
          },
          "ternary": {
           "aaxis": {
            "gridcolor": "white",
            "linecolor": "white",
            "ticks": ""
           },
           "baxis": {
            "gridcolor": "white",
            "linecolor": "white",
            "ticks": ""
           },
           "bgcolor": "#E5ECF6",
           "caxis": {
            "gridcolor": "white",
            "linecolor": "white",
            "ticks": ""
           }
          },
          "title": {
           "x": 0.05
          },
          "xaxis": {
           "automargin": true,
           "gridcolor": "white",
           "linecolor": "white",
           "ticks": "",
           "title": {
            "standoff": 15
           },
           "zerolinecolor": "white",
           "zerolinewidth": 2
          },
          "yaxis": {
           "automargin": true,
           "gridcolor": "white",
           "linecolor": "white",
           "ticks": "",
           "title": {
            "standoff": 15
           },
           "zerolinecolor": "white",
           "zerolinewidth": 2
          }
         }
        },
        "title": {
         "text": "Top 5 Profitable Liquors"
        },
        "xaxis": {
         "anchor": "y",
         "domain": [
          0,
          1
         ],
         "title": {
          "text": "Item Description"
         }
        },
        "yaxis": {
         "anchor": "x",
         "domain": [
          0,
          1
         ],
         "title": {
          "text": "Profit"
         }
        }
       }
      }
     },
     "metadata": {},
     "output_type": "display_data"
    }
   ],
   "source": [
    "iowa_graph=px.scatter(iowa_sum[0:5],y=\"Profit\",title=\"Top 5 Profitable Liquors\")\n",
    "iowa_graph"
   ]
  },
  {
   "cell_type": "markdown",
   "id": "cd33624e",
   "metadata": {},
   "source": [
    "## Question 2"
   ]
  },
  {
   "cell_type": "markdown",
   "id": "63593bde",
   "metadata": {},
   "source": [
    "2. This question is to further explore broadcasting in NumPy.\n",
    "\n",
    "- In the first code chunk below, there are two vectors, $x$ and $y$. What happens when you try to subtract them?\n",
    "- Instead, try `x.reshape(-1,1)-y.reshape(-1,1)`. What do you get?\n",
    "- Try `x.reshape(1,-1)-y.reshape(1,-1)`. Compare the results to your previous answer.\n",
    "- Write two double for-loops to replicate the results of the previous two answers. \n",
    "- Clearly explain how `x.reshape(1,-1)` and `x.reshape(-1,1)` change $x$"
   ]
  },
  {
   "cell_type": "code",
   "execution_count": 70,
   "id": "e29b3aac",
   "metadata": {},
   "outputs": [],
   "source": [
    "import numpy as np\n",
    "\n",
    "x = np.array([1,3,5])\n",
    "y = np.array([2,5])\n",
    "## np.subtract(x,y)"
   ]
  },
  {
   "cell_type": "markdown",
   "id": "eba50ac7",
   "metadata": {},
   "source": [
    "The vectors x and y could not be subtracted because they have different sizes."
   ]
  },
  {
   "cell_type": "code",
   "execution_count": 71,
   "id": "162d926e",
   "metadata": {},
   "outputs": [
    {
     "name": "stdout",
     "output_type": "stream",
     "text": [
      "[[1]\n",
      " [3]\n",
      " [5]]\n",
      "[[2 5]]\n"
     ]
    },
    {
     "data": {
      "text/plain": [
       "array([[-1, -4],\n",
       "       [ 1, -2],\n",
       "       [ 3,  0]])"
      ]
     },
     "execution_count": 71,
     "metadata": {},
     "output_type": "execute_result"
    }
   ],
   "source": [
    "x_reshape= x.reshape(-1,1)\n",
    "print(x_reshape)\n",
    "y_reshape= y.reshape(1,-1)\n",
    "print(y_reshape)\n",
    "diff=np.subtract(x_reshape,y_reshape)\n",
    "diff\n"
   ]
  },
  {
   "cell_type": "markdown",
   "id": "6021764e",
   "metadata": {},
   "source": [
    "We get a  3 x 2 array."
   ]
  },
  {
   "cell_type": "code",
   "execution_count": 72,
   "id": "c656e484",
   "metadata": {},
   "outputs": [
    {
     "name": "stdout",
     "output_type": "stream",
     "text": [
      "[[1 3 5]]\n",
      "[[2]\n",
      " [5]]\n"
     ]
    },
    {
     "data": {
      "text/plain": [
       "array([[-1,  1,  3],\n",
       "       [-4, -2,  0]])"
      ]
     },
     "execution_count": 72,
     "metadata": {},
     "output_type": "execute_result"
    }
   ],
   "source": [
    "print(x.reshape(1,-1))\n",
    "print(y.reshape(-1,1))\n",
    "np.subtract(x.reshape(1,-1),y.reshape(-1,1))"
   ]
  },
  {
   "cell_type": "markdown",
   "id": "b5eb49df",
   "metadata": {},
   "source": [
    "Used chatGPT for help"
   ]
  },
  {
   "cell_type": "code",
   "execution_count": 73,
   "id": "7ff4de28",
   "metadata": {},
   "outputs": [
    {
     "data": {
      "text/plain": [
       "array([[-1., -4.],\n",
       "       [ 1., -2.],\n",
       "       [ 3.,  0.]])"
      ]
     },
     "execution_count": 73,
     "metadata": {},
     "output_type": "execute_result"
    }
   ],
   "source": [
    "matrix=np.empty((len(x),len(y)))\n",
    "for ix, i in enumerate(x):\n",
    "    for iy, j in enumerate(y):\n",
    "        num=i-j\n",
    "        matrix[ix,iy]=num  \n",
    "matrix               "
   ]
  },
  {
   "cell_type": "code",
   "execution_count": 74,
   "id": "c1487e83",
   "metadata": {},
   "outputs": [
    {
     "data": {
      "text/plain": [
       "array([[ 1., -1., -3.],\n",
       "       [ 4.,  2.,  0.]])"
      ]
     },
     "execution_count": 74,
     "metadata": {},
     "output_type": "execute_result"
    }
   ],
   "source": [
    "matrix=np.empty((len(y),len(x)))\n",
    "for iy, j in enumerate(y):\n",
    "    for ix, i in enumerate(x):\n",
    "        num=j-i\n",
    "        matrix[iy,ix]=num  \n",
    "matrix               "
   ]
  },
  {
   "cell_type": "markdown",
   "id": "cb5d4675",
   "metadata": {},
   "source": [
    "## Question 3"
   ]
  },
  {
   "cell_type": "markdown",
   "id": "b29f1d35",
   "metadata": {},
   "source": [
    "3. The indicator function $\\mathbb{I}\\{ x \\le z \\}$ takes the value 0 if $x>z$ is false and 1 if $x \\le z$ is true.\n",
    "\n",
    "- For $y = 3$, plot the indicator function for any $z$\n",
    "- Explain how $ 1- \\mathbb{I}\\{ x \\le z \\} = \\mathbb{I}\\{ x > z \\}$. Drawing a plot might help, or looking at the definition that\n",
    "$$\n",
    "\\mathbb{I}\\{x \\le z\\} = \\begin{cases}\n",
    "0, &x > z \\\\\n",
    "1, &x \\le z\n",
    "\\end{cases}\n",
    "$$\n",
    "- The code below generates a random sample for different numbers of observations, $N = 3, 30, 300, 3000 $. Write a function to compute the ECDF curve for each sample, and plot your results.\n",
    "- Describe in your own words what happens to the ECDF qualitatively as the sample size $N$ increases"
   ]
  },
  {
   "cell_type": "code",
   "execution_count": 75,
   "id": "0c13b67c",
   "metadata": {},
   "outputs": [],
   "source": [
    "import numpy as np\n",
    "import seaborn as sns\n",
    "import matplotlib.pyplot as plt\n"
   ]
  },
  {
   "cell_type": "code",
   "execution_count": 76,
   "id": "7a75887f",
   "metadata": {},
   "outputs": [
    {
     "name": "stdout",
     "output_type": "stream",
     "text": [
      "<class 'range'>\n",
      "(array([0.2, 0.4, 0.6, 0.8, 1. ]), array([-1.15754965, -0.96138264,  0.2897558 ,  0.54397364,  0.78085407]))\n"
     ]
    },
    {
     "data": {
      "image/png": "[encoded data removed]",
      "text/plain": [
       "<Figure size 640x480 with 1 Axes>"
      ]
     },
     "metadata": {},
     "output_type": "display_data"
    }
   ],
   "source": [
    "\n",
    "\n",
    "rng = np.random.default_rng(100)\n",
    "print(range)\n",
    "X = rng.normal(0,1,5)\n",
    "\n",
    "def ecdf(x,plot=True):\n",
    "    grid = np.sort(np.unique(X))\n",
    "    ecdf = np.zeros(len(grid))\n",
    "    for idx in range(len(grid)):\n",
    "        ecdf[idx] = (X <= grid[idx]).sum()/len(X)\n",
    "    if plot:\n",
    "        plt.plot(grid,ecdf)\n",
    "        plt.title(\"ECDF\")\n",
    "        plt.ylabel(\"Proportion\")\n",
    "    return ecdf,grid\n",
    "\n",
    "\n",
    "print(ecdf(X))"
   ]
  },
  {
   "cell_type": "code",
   "execution_count": 77,
   "id": "17ad7d01",
   "metadata": {},
   "outputs": [],
   "source": [
    "import numpy as np\n",
    "import seaborn as sns\n",
    "\n",
    "rng = np.random.default_rng(100)\n",
    "\n",
    "for N in (3,30,300,3000):\n",
    "    X = rng.normal(0,1,N)\n",
    "    \n",
    "\n",
    "    # ECDF plot goes here:\n"
   ]
  },
  {
   "cell_type": "markdown",
   "id": "eef8c6de",
   "metadata": {},
   "source": [
    "## Question 4"
   ]
  },
  {
   "cell_type": "markdown",
   "id": "6c8f1ebb",
   "metadata": {},
   "source": [
    "4. A **quantile** generalizes the concept of the median so that instead of 50% of the mass below and 50% above, the $q$-quantile is the value for which $q$ proportion of the data are below that value and $(1-q)$ proportion of the data are above that value. This is a concept of **order**.\n",
    "\n",
    "- Write a function that computes any quantile without using Numpy's `np.quantile`\n",
    "- Write a function that computes the **Interquartile Range (IQR)** -- the .25 quantile and the .75 quantile, which brackets 50% of the data -- and the **whiskers**: $\\pm 1.5 \\times \\text{IQR}$ from the edges of the IQR\n",
    "- Write a function that computes a five-number summary and values for a boxplot: the minimum, the .25 quantile, the median, the .75 quantile, and the maximum, and the whiskers\n",
    "- Anything outside the whiskers is an **outlier**; write a function that returns a Boolean vector indicating if the observations are outliers.\n",
    "- For a numeric variable of your choice from one of the datasets, apply your functions from above, and compare your answers with `sns.boxplot` and `df.describe`. "
   ]
  },
  {
   "cell_type": "code",
   "execution_count": 78,
   "id": "a132c00b",
   "metadata": {},
   "outputs": [],
   "source": [
    "import numpy as np\n",
    "\n",
    "x = np.array([1,3,5])\n",
    "y = np.array([2,5])\n",
    "## np.subtract(x,y)"
   ]
  },
  {
   "cell_type": "markdown",
   "id": "5b550e91",
   "metadata": {},
   "source": [
    "### Quantile"
   ]
  },
  {
   "cell_type": "code",
   "execution_count": 79,
   "id": "20fec40e",
   "metadata": {},
   "outputs": [],
   "source": [
    "def find_quantile(x,q):\n",
    "    value,grid=ecdf(x,plot=False)\n",
    "    # Compute the difference\n",
    "    difference=q-value\n",
    "    abs_difference=np.abs(difference)\n",
    "    smallest_diff=np.min(abs_difference)\n",
    "    index=np.where(abs_difference==smallest_diff)\n",
    "    quantile=grid[index]\n",
    "    return quantile\n",
    "        \n",
    "\n",
    "\n",
    "\n",
    "\n"
   ]
  },
  {
   "cell_type": "markdown",
   "id": "3d54b88e",
   "metadata": {},
   "source": [
    "### Boxplot"
   ]
  },
  {
   "cell_type": "code",
   "execution_count": 80,
   "id": "8da09f3d",
   "metadata": {},
   "outputs": [],
   "source": [
    "def find_box_plot(x):\n",
    "    first_quartile=find_quantile(x,.25)\n",
    "    third_quartile=find_quantile(x,.75)\n",
    "    IQR= third_quartile-first_quartile\n",
    "    whisker2= third_quartile+(1.5 * IQR) \n",
    "    whisker1=first_quartile-(1.5 * IQR)  \n",
    "    median=find_quantile(x,0.50)\n",
    "    max=np.max(x)\n",
    "    min=np.min(x)\n",
    "    return {\n",
    "        \"whisker1\": whisker1,\n",
    "        \"whisker2\": whisker2,\n",
    "        \"IQR\":IQR,\n",
    "        \"Quartile 1\": first_quartile,\n",
    "        \"Median\": median,\n",
    "        \"Quartile 3\": third_quartile,\n",
    "        \"Minimum\": min,\n",
    "        \"Maximum\": max\n",
    "    }"
   ]
  },
  {
   "cell_type": "code",
   "execution_count": 81,
   "id": "977ae6dd",
   "metadata": {},
   "outputs": [
    {
     "data": {
      "text/plain": [
       "{'whisker1': array([-2.66753485]),\n",
       " 'whisker2': array([2.74146942]),\n",
       " 'IQR': array([1.35225107]),\n",
       " 'Quartile 1': array([-0.63915825]),\n",
       " 'Median': array([0.02911646]),\n",
       " 'Quartile 3': array([0.71309282]),\n",
       " 'Minimum': -60,\n",
       " 'Maximum': 2400}"
      ]
     },
     "execution_count": 81,
     "metadata": {},
     "output_type": "execute_result"
    }
   ],
   "source": [
    "find_box_plot(x=iowa[\"Bottles Sold\"])"
   ]
  },
  {
   "cell_type": "code",
   "execution_count": 82,
   "id": "f2564f95",
   "metadata": {},
   "outputs": [
    {
     "data": {
      "text/plain": [
       "count    159904.000000\n",
       "mean         10.883336\n",
       "std          28.042635\n",
       "min         -60.000000\n",
       "25%           3.000000\n",
       "50%           6.000000\n",
       "75%          12.000000\n",
       "max        2400.000000\n",
       "Name: Bottles Sold, dtype: float64"
      ]
     },
     "execution_count": 82,
     "metadata": {},
     "output_type": "execute_result"
    },
    {
     "data": {
      "image/png": "[encoded data removed]",
      "text/plain": [
       "<Figure size 640x480 with 1 Axes>"
      ]
     },
     "metadata": {},
     "output_type": "display_data"
    }
   ],
   "source": [
    "sns.boxplot(x=iowa[\"Bottles Sold\"])\n",
    "iowa[\"Bottles Sold\"].describe()"
   ]
  },
  {
   "cell_type": "markdown",
   "id": "22dbf784",
   "metadata": {},
   "source": [
    "My answers are different than the .describe function for Q1 and Q2. I don't know why this. This function was corect with other data sets."
   ]
  },
  {
   "cell_type": "markdown",
   "id": "d5cf5a2f",
   "metadata": {},
   "source": [
    "### Outliers"
   ]
  },
  {
   "cell_type": "code",
   "execution_count": 83,
   "id": "11a3a7a5",
   "metadata": {},
   "outputs": [],
   "source": [
    "def is_outlier(point,data):\n",
    "    stats=find_box_plot(data)\n",
    "    if point< stats[\"whisker2\"] or point> stats[\"whisker1\"]:\n",
    "      print(point, \"is an outlier!\")\n",
    "    else:\n",
    "       print(point, \"is not an outlier!\")\n",
    "        \n",
    "\n",
    "\n",
    "  "
   ]
  },
  {
   "cell_type": "code",
   "execution_count": 84,
   "id": "92416426",
   "metadata": {},
   "outputs": [
    {
     "name": "stdout",
     "output_type": "stream",
     "text": [
      "12 is an outlier!\n"
     ]
    }
   ],
   "source": [
    "is_outlier(12,iowa[\"Bottles Sold\"])"
   ]
  },
  {
   "cell_type": "markdown",
   "id": "b6e316bb",
   "metadata": {},
   "source": [
    "## Question 5"
   ]
  },
  {
   "cell_type": "markdown",
   "id": "a8f07589",
   "metadata": {},
   "source": []
  },
  {
   "cell_type": "markdown",
   "id": "99f4c407",
   "metadata": {},
   "source": [
    "5. The kernel density estimator captures the concentration of the data around various points, and is defined as\n",
    "$$\n",
    "\\hat{f}_{N,h}(z) = \\frac{1}{N} \\sum_{i=1}^N \\frac{1}{h} k \\left( \\frac{x_i - z}{h}\\right)\n",
    "$$\n",
    "where $h$ is the bandwidth and $k()$ is one of the kernel functions from the class materials (Gaussian, Epanechnikov, uniform, triangular).\n",
    "\n",
    "- Write a function that takes the bandwidth $h$ as given, and computes and plots $\\hat{f}_{N,h}(z)$, for the kernels listed in the slides\n",
    "- Write a function that computes the plug-in bandwidth\n",
    "- Use your functions to analyze some numeric variables from a dataset of your choice, using a variety of bandwidths\n",
    "- Compare bandwidths that are greater or less than the plug-in value with the results for the plug-in value. When does the KDE appear to be overfitting? Underfitting?"
   ]
  }
 ],
 "metadata": {
  "kernelspec": {
   "display_name": "base",
   "language": "python",
   "name": "python3"
  },
  "language_info": {
   "codemirror_mode": {
    "name": "ipython",
    "version": 3
   },
   "file_extension": ".py",
   "mimetype": "text/x-python",
   "name": "python",
   "nbconvert_exporter": "python",
   "pygments_lexer": "ipython3",
   "version": "3.13.5"
  }
 },
 "nbformat": 4,
 "nbformat_minor": 5
}
