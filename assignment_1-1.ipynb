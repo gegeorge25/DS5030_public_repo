{
 "cells": [
  {
   "cell_type": "markdown",
   "id": "87b91d83",
   "metadata": {},
   "source": [
    "# Assignment 1\n",
    "### Understanding Uncertainty\n",
    "### Due 9/5"
   ]
  },
  {
   "cell_type": "markdown",
   "id": "29347d8d",
   "metadata": {},
   "source": [
    "### Grace George"
   ]
  },
  {
   "cell_type": "markdown",
   "id": "380e339f",
   "metadata": {},
   "source": [
    "1. Create a new public repo on Github under your account. Include a readme file.\n",
    "2. Clone it to your machine. Put this file into that repo.\n",
    "3. Use the following function to download the example data for the course:"
   ]
  },
  {
   "cell_type": "code",
   "execution_count": 3,
   "id": "28240b88",
   "metadata": {},
   "outputs": [],
   "source": [
    "import numpy as np\n",
    "import pandas as pd"
   ]
  },
  {
   "cell_type": "code",
   "execution_count": 6,
   "id": "2d62b4f6",
   "metadata": {},
   "outputs": [
    {
     "name": "stdout",
     "output_type": "stream",
     "text": [
      "Download file already exists\n",
      "Data directory already exists\n"
     ]
    }
   ],
   "source": [
    "def download_data(force=False):\n",
    "    \"\"\"Download and extract course data from Zenodo.\"\"\"\n",
    "    import urllib.request, zipfile, os\n",
    "    \n",
    "    zip_path = 'data.zip'\n",
    "    data_dir = 'data'\n",
    "    \n",
    "    if not os.path.exists(zip_path) or force:\n",
    "        print(\"Downloading course data\")\n",
    "        urllib.request.urlretrieve(\n",
    "            'https://zenodo.org/records/16954427/files/data.zip?download=1',\n",
    "            zip_path\n",
    "        )\n",
    "        print(\"Download complete\")\n",
    "    else:\n",
    "        print(\"Download file already exists\")\n",
    "        \n",
    "    if not os.path.exists(data_dir) or force:\n",
    "        print(\"Extracting data files...\")\n",
    "        with zipfile.ZipFile(zip_path, 'r') as zip_ref:\n",
    "            zip_ref.extractall(data_dir)\n",
    "        print(\"Data extracted\")\n",
    "    else:\n",
    "        print(\"Data directory already exists\")\n",
    "\n",
    "download_data()"
   ]
  },
  {
   "cell_type": "markdown",
   "id": "c9799afc",
   "metadata": {},
   "source": []
  },
  {
   "cell_type": "code",
   "execution_count": 4,
   "id": "a7ab7eef",
   "metadata": {},
   "outputs": [],
   "source": [
    "df=pd.read_csv('data/ames_prices.csv')"
   ]
  },
  {
   "cell_type": "markdown",
   "id": "01db0045",
   "metadata": {},
   "source": [
    "4. Open one of the datasets using Pandas:\n",
    "    1. `ames_prices.csv`: Housing characteristics and prices\n",
    "    2. `college_completion.csv`: Public, nonprofit, and for-profit educational institutions, graduation rates, and financial aid\n",
    "    3. `ForeignGifts_edu.csv`: Monetary and in-kind transfers from foreign entities to U.S. educational institutions\n",
    "    4. `iowa.csv`: Liquor sales in Iowa, at the transaction level\n",
    "    5. `metabric.csv`: Cancer patient and outcome data\n",
    "    6. `mn_police_use_of_force.csv`: Records of physical altercations between Minnessota police and private citizens\n",
    "    7. `nhanes_data_17_18.csv`: National Health and Nutrition Examination Survey\n",
    "    8. `tuna.csv`: Yellowfin Tuna Genome (I don't recommend this one; it's just a sequence of G, C, A, T )\n",
    "    9. `va_procurement.csv`: Public spending by the state of Virginia"
   ]
  },
  {
   "cell_type": "code",
   "execution_count": 5,
   "id": "e3b7cb58",
   "metadata": {},
   "outputs": [],
   "source": [
    "df=pd.read_csv('data/ames_prices.csv')"
   ]
  },
  {
   "cell_type": "markdown",
   "id": "fa5cade1",
   "metadata": {},
   "source": [
    "5. Pick two or three variables and briefly analyze them\n",
    "    - Is it a categorical or numeric variable?\n",
    "    - How many missing values are there? (`df['var'].isna()` and `np.sum()`)\n",
    "    - If categorical, tabulate the values (`df['var'].value_counts()`) and if numeric, get a summary (`df['var'].describe()`)"
   ]
  },
  {
   "cell_type": "code",
   "execution_count": 16,
   "id": "44d7c4a9",
   "metadata": {},
   "outputs": [
    {
     "name": "stdout",
     "output_type": "stream",
     "text": [
      "0\n"
     ]
    },
    {
     "data": {
      "text/plain": [
       "count    2930.000000\n",
       "mean     1499.690444\n",
       "std       505.508887\n",
       "min       334.000000\n",
       "25%      1126.000000\n",
       "50%      1442.000000\n",
       "75%      1742.750000\n",
       "max      5642.000000\n",
       "Name: area, dtype: float64"
      ]
     },
     "execution_count": 16,
     "metadata": {},
     "output_type": "execute_result"
    }
   ],
   "source": [
    "area=df[\"area\"] # Numerical variable\n",
    "area_na=np.sum(area.isna())\n",
    "print(area_na)\n",
    "sum_area=area.describe()\n",
    "sum_area\n",
    "# There are no naN values."
   ]
  },
  {
   "cell_type": "code",
   "execution_count": 21,
   "id": "79f2524a",
   "metadata": {},
   "outputs": [
    {
     "name": "stdout",
     "output_type": "stream",
     "text": [
      "0\n"
     ]
    },
    {
     "data": {
      "text/plain": [
       "count      2930.000000\n",
       "mean     180796.060068\n",
       "std       79886.692357\n",
       "min       12789.000000\n",
       "25%      129500.000000\n",
       "50%      160000.000000\n",
       "75%      213500.000000\n",
       "max      755000.000000\n",
       "Name: price, dtype: float64"
      ]
     },
     "execution_count": 21,
     "metadata": {},
     "output_type": "execute_result"
    }
   ],
   "source": [
    "price=df[\"price\"] # Numerical variable\n",
    "prince_na=np.sum(price.isna())\n",
    "print(prince_na)\n",
    "sum_price=price.describe()\n",
    "sum_price\n",
    "# There are no naN values   "
   ]
  },
  {
   "cell_type": "code",
   "execution_count": 27,
   "id": "73b19f62",
   "metadata": {},
   "outputs": [
    {
     "name": "stdout",
     "output_type": "stream",
     "text": [
      "0\n",
      "Neighborhood\n",
      "NAmes      443\n",
      "CollgCr    267\n",
      "OldTown    239\n",
      "Edwards    194\n",
      "Somerst    182\n",
      "NridgHt    166\n",
      "Gilbert    165\n",
      "Sawyer     151\n",
      "NWAmes     131\n",
      "SawyerW    125\n",
      "Mitchel    114\n",
      "BrkSide    108\n",
      "Crawfor    103\n",
      "IDOTRR      93\n",
      "Timber      72\n",
      "NoRidge     71\n",
      "StoneBr     51\n",
      "SWISU       48\n",
      "ClearCr     44\n",
      "MeadowV     37\n",
      "BrDale      30\n",
      "Blmngtn     28\n",
      "Veenker     24\n",
      "NPkVill     23\n",
      "Blueste     10\n",
      "Greens       8\n",
      "GrnHill      2\n",
      "Landmrk      1\n",
      "Name: count, dtype: int64\n"
     ]
    }
   ],
   "source": [
    "neighboorhood=df[\"Neighborhood\"] # Categorical variable\n",
    "neighboorhood_na=np.sum(neighboorhood.isna())\n",
    "print(neighboorhood_na)\n",
    "sum_neigborhood=neighboorhood.value_counts()\n",
    "print(sum_neigborhood)\n"
   ]
  },
  {
   "cell_type": "code",
   "execution_count": 6,
   "id": "aa56e3b9",
   "metadata": {},
   "outputs": [
    {
     "name": "stdout",
     "output_type": "stream",
     "text": [
      "<class 'pandas.core.frame.DataFrame'>\n",
      "RangeIndex: 2930 entries, 0 to 2929\n",
      "Data columns (total 82 columns):\n",
      " #   Column           Non-Null Count  Dtype  \n",
      "---  ------           --------------  -----  \n",
      " 0   Order            2930 non-null   int64  \n",
      " 1   PID              2930 non-null   int64  \n",
      " 2   area             2930 non-null   int64  \n",
      " 3   price            2930 non-null   int64  \n",
      " 4   MS.SubClass      2930 non-null   int64  \n",
      " 5   MS.Zoning        2930 non-null   object \n",
      " 6   Lot.Frontage     2440 non-null   float64\n",
      " 7   Lot.Area         2930 non-null   int64  \n",
      " 8   Street           2930 non-null   object \n",
      " 9   Alley            198 non-null    object \n",
      " 10  Lot.Shape        2930 non-null   object \n",
      " 11  Land.Contour     2930 non-null   object \n",
      " 12  Utilities        2930 non-null   object \n",
      " 13  Lot.Config       2930 non-null   object \n",
      " 14  Land.Slope       2930 non-null   object \n",
      " 15  Neighborhood     2930 non-null   object \n",
      " 16  Condition.1      2930 non-null   object \n",
      " 17  Condition.2      2930 non-null   object \n",
      " 18  Bldg.Type        2930 non-null   object \n",
      " 19  House.Style      2930 non-null   object \n",
      " 20  Overall.Qual     2930 non-null   int64  \n",
      " 21  Overall.Cond     2930 non-null   int64  \n",
      " 22  Year.Built       2930 non-null   int64  \n",
      " 23  Year.Remod.Add   2930 non-null   int64  \n",
      " 24  Roof.Style       2930 non-null   object \n",
      " 25  Roof.Matl        2930 non-null   object \n",
      " 26  Exterior.1st     2930 non-null   object \n",
      " 27  Exterior.2nd     2930 non-null   object \n",
      " 28  Mas.Vnr.Type     1155 non-null   object \n",
      " 29  Mas.Vnr.Area     2907 non-null   float64\n",
      " 30  Exter.Qual       2930 non-null   object \n",
      " 31  Exter.Cond       2930 non-null   object \n",
      " 32  Foundation       2930 non-null   object \n",
      " 33  Bsmt.Qual        2850 non-null   object \n",
      " 34  Bsmt.Cond        2850 non-null   object \n",
      " 35  Bsmt.Exposure    2847 non-null   object \n",
      " 36  BsmtFin.Type.1   2850 non-null   object \n",
      " 37  BsmtFin.SF.1     2929 non-null   float64\n",
      " 38  BsmtFin.Type.2   2849 non-null   object \n",
      " 39  BsmtFin.SF.2     2929 non-null   float64\n",
      " 40  Bsmt.Unf.SF      2929 non-null   float64\n",
      " 41  Total.Bsmt.SF    2929 non-null   float64\n",
      " 42  Heating          2930 non-null   object \n",
      " 43  Heating.QC       2930 non-null   object \n",
      " 44  Central.Air      2930 non-null   object \n",
      " 45  Electrical       2929 non-null   object \n",
      " 46  X1st.Flr.SF      2930 non-null   int64  \n",
      " 47  X2nd.Flr.SF      2930 non-null   int64  \n",
      " 48  Low.Qual.Fin.SF  2930 non-null   int64  \n",
      " 49  Bsmt.Full.Bath   2928 non-null   float64\n",
      " 50  Bsmt.Half.Bath   2928 non-null   float64\n",
      " 51  Full.Bath        2930 non-null   int64  \n",
      " 52  Half.Bath        2930 non-null   int64  \n",
      " 53  Bedroom.AbvGr    2930 non-null   int64  \n",
      " 54  Kitchen.AbvGr    2930 non-null   int64  \n",
      " 55  Kitchen.Qual     2930 non-null   object \n",
      " 56  TotRms.AbvGrd    2930 non-null   int64  \n",
      " 57  Functional       2930 non-null   object \n",
      " 58  Fireplaces       2930 non-null   int64  \n",
      " 59  Fireplace.Qu     1508 non-null   object \n",
      " 60  Garage.Type      2773 non-null   object \n",
      " 61  Garage.Yr.Blt    2771 non-null   float64\n",
      " 62  Garage.Finish    2771 non-null   object \n",
      " 63  Garage.Cars      2929 non-null   float64\n",
      " 64  Garage.Area      2929 non-null   float64\n",
      " 65  Garage.Qual      2771 non-null   object \n",
      " 66  Garage.Cond      2771 non-null   object \n",
      " 67  Paved.Drive      2930 non-null   object \n",
      " 68  Wood.Deck.SF     2930 non-null   int64  \n",
      " 69  Open.Porch.SF    2930 non-null   int64  \n",
      " 70  Enclosed.Porch   2930 non-null   int64  \n",
      " 71  X3Ssn.Porch      2930 non-null   int64  \n",
      " 72  Screen.Porch     2930 non-null   int64  \n",
      " 73  Pool.Area        2930 non-null   int64  \n",
      " 74  Pool.QC          13 non-null     object \n",
      " 75  Fence            572 non-null    object \n",
      " 76  Misc.Feature     106 non-null    object \n",
      " 77  Misc.Val         2930 non-null   int64  \n",
      " 78  Mo.Sold          2930 non-null   int64  \n",
      " 79  Yr.Sold          2930 non-null   int64  \n",
      " 80  Sale.Type        2930 non-null   object \n",
      " 81  Sale.Condition   2930 non-null   object \n",
      "dtypes: float64(11), int64(28), object(43)\n",
      "memory usage: 1.8+ MB\n"
     ]
    }
   ],
   "source": [
    "df.info()"
   ]
  },
  {
   "cell_type": "markdown",
   "id": "dbf2318a",
   "metadata": {},
   "source": [
    "6. What are some questions and prediction tools you could create using these data? Who would the stakeholder be for that prediction tool? What practical or ethical questions would it create? What other data would you want, that are not available in your data?"
   ]
  },
  {
   "cell_type": "markdown",
   "id": "6970575d",
   "metadata": {},
   "source": [
    "One question I would ask is how does area predict housing. I would create a scatter plot of area and price. This would help developers see see how much they should charge for a house. It could also help buyer see if they are being charged to much for the house they are looking at. One things that I do worry about is that could worsen the housing market.\n",
    "Another thing I would look at is seeing the average price in different neigbhoorhoods. I am interested to see what neighborhoods are more expensive that why. This could help people find areas that are within their price range. I do worry that this will cause some neigborhoods to get a bad reputation because of they are less affordable."
   ]
  },
  {
   "cell_type": "markdown",
   "id": "a4a7ddc7",
   "metadata": {},
   "source": [
    "7. Commit your work to the repo (`git commit -am 'Finish assignment'` at the command line, or use the Git panel in VS Code). Push your work back to Github and submit the link on Canvas in the assignment tab."
   ]
  }
 ],
 "metadata": {
  "kernelspec": {
   "display_name": "base",
   "language": "python",
   "name": "python3"
  },
  "language_info": {
   "codemirror_mode": {
    "name": "ipython",
    "version": 3
   },
   "file_extension": ".py",
   "mimetype": "text/x-python",
   "name": "python",
   "nbconvert_exporter": "python",
   "pygments_lexer": "ipython3",
   "version": "3.13.5"
  }
 },
 "nbformat": 4,
 "nbformat_minor": 5
}
